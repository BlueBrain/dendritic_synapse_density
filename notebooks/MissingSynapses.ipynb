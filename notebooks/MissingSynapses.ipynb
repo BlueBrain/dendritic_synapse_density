{
 "cells": [
  {
   "cell_type": "markdown",
   "metadata": {},
   "source": [
    "# Estimation of missing lynapses per layer"
   ]
  },
  {
   "cell_type": "code",
   "execution_count": 18,
   "metadata": {},
   "outputs": [],
   "source": [
    "import os\n",
    "import numpy as np\n",
    "import pandas as pd\n",
    "import matplotlib.pyplot as plt\n",
    "from bluepy import Circuit\n",
    "from bluepy import Cell\n",
    "from bluepy import Synapse"
   ]
  },
  {
   "cell_type": "code",
   "execution_count": 7,
   "metadata": {},
   "outputs": [
    {
     "name": "stdout",
     "output_type": "stream",
     "text": [
      "INFO: Loaded cell table with 211712 cells\n"
     ]
    }
   ],
   "source": [
    "# Load pre-computed cell table\n",
    "pkl_file = '/gpfs/bbp.cscs.ch/project/proj83/home/pokorny/SSCx/dendritic_synapse_density/cell_table__pokorny_SSCx_dendritic_synapse_density_SSCxO1_CircuitConfig__Target_hex_O1__2021-04-27_13-07-10.pkl'\n",
    "cell_table = pd.read_pickle(pkl_file)\n",
    "print(f'INFO: Loaded cell table with {cell_table.shape[0]} cells')"
   ]
  },
  {
   "cell_type": "code",
   "execution_count": 41,
   "metadata": {},
   "outputs": [
    {
     "name": "stderr",
     "output_type": "stream",
     "text": [
      "Using targets with population with a mvd cell file.\n"
     ]
    }
   ],
   "source": [
    "# Load corresponding circuit (to access additional cell properties)\n",
    "circuit_config = '/gpfs/bbp.cscs.ch/project/proj83/home/pokorny/SSCx/dendritic_synapse_density/SSCxO1_CircuitConfig'\n",
    "circuit = Circuit(circuit_config)\n",
    "\n",
    "target_list = list(filter(lambda x: 'Target_' in x, os.path.split(pkl_file)[-1].split('__')))\n",
    "circuit_target = None if len(target_list) == 0 else target_list[-1].split('Target_')[-1] # Reconstruct circuit target from pkl_file\n",
    "\n",
    "cell_ids = circuit.cells.ids(circuit_target)\n",
    "assert np.all(cell_ids == cell_table.index), 'ERROR: Cell ids mismatch!'"
   ]
  },
  {
   "cell_type": "code",
   "execution_count": 11,
   "metadata": {},
   "outputs": [],
   "source": [
    "# Add total (local/TC/midrange) densities\n",
    "# (incl. midrange)\n",
    "# sum_columns = {'VPM_syn_density': list(filter(lambda x: 'Thalamocortical_input_VPM' in x and 'density' in x, cell_table.keys())),\n",
    "#                'POM_syn_density': list(filter(lambda x: 'Thalamocortical_input_POM' in x and 'density' in x, cell_table.keys())),\n",
    "#                'midrange_syn_density': ['intra_SSCX_midrange_wm_density'],\n",
    "#                'total_E_syn_density': ['local_E_syn_density', 'midrange_syn_density', 'VPM_syn_density', 'POM_syn_density'],\n",
    "#                'total_I_syn_density': ['local_I_syn_density']}\n",
    "# (w/o midrange)\n",
    "sum_columns = {'VPM_syn_density': list(filter(lambda x: 'Thalamocortical_input_VPM' in x and 'density' in x, cell_table.keys())),\n",
    "               'POM_syn_density': list(filter(lambda x: 'Thalamocortical_input_POM' in x and 'density' in x, cell_table.keys())),\n",
    "               'total_E_syn_density': ['local_E_syn_density', 'VPM_syn_density', 'POM_syn_density'],\n",
    "               'total_I_syn_density': ['local_I_syn_density']}\n",
    "for (k, v) in sum_columns.items():\n",
    "    cell_table.insert(column=k, value=np.sum(cell_table[v], 1), loc=cell_table.shape[1])"
   ]
  },
  {
   "cell_type": "code",
   "execution_count": 12,
   "metadata": {},
   "outputs": [],
   "source": [
    "# Commpute missing synapses\n",
    "ref_density = 1.1 # syn/um [Markram et al. 2015]\n",
    "\n",
    "cell_table.insert(column='total_E_syn_density_missing', value=ref_density - cell_table['total_E_syn_density'], loc=cell_table.shape[1])\n",
    "cell_table.insert(column='local_E_syn_density_missing', value=ref_density - cell_table['local_E_syn_density'], loc=cell_table.shape[1])\n",
    "cell_table.insert(column='total_E_syn_count', value=(cell_table['total_E_syn_density'] * cell_table['total_dendrite_length']).astype(int), loc=cell_table.shape[1])\n",
    "cell_table.insert(column='total_E_syn_count_missing', value=(cell_table['total_E_syn_density_missing'] * cell_table['total_dendrite_length']).astype(int), loc=cell_table.shape[1])\n",
    "cell_table.insert(column='local_E_syn_count_missing', value=(cell_table['local_E_syn_density_missing'] * cell_table['total_dendrite_length']).astype(int), loc=cell_table.shape[1])"
   ]
  },
  {
   "cell_type": "code",
   "execution_count": 61,
   "metadata": {},
   "outputs": [],
   "source": [
    "# Compute missing (local) EXC synapses per layer\n",
    "layers = np.unique(circuit.cells.get(properties='layer'))\n",
    "gids_layer = [np.intersect1d(circuit.cells.ids({'layer': lay, 'synapse_class': 'EXC'}), cell_table.index) for lay in layers]\n",
    "syn_count_E_mean = [np.mean(cell_table.loc[gids_layer[i], 'local_E_syn_count_missing']) for i in range(len(layers))]\n",
    "syn_count_E_std = [np.std(cell_table.loc[gids_layer[i], 'local_E_syn_count_missing']) for i in range(len(layers))]\n",
    "\n",
    "gids_layer = [np.intersect1d(circuit.cells.ids({'layer': lay, 'synapse_class': 'INH'}), cell_table.index) for lay in layers]\n",
    "syn_count_I_mean = [np.mean(cell_table.loc[gids_layer[i], 'local_E_syn_count_missing']) for i in range(len(layers))]\n",
    "syn_count_I_std = [np.std(cell_table.loc[gids_layer[i], 'local_E_syn_count_missing']) for i in range(len(layers))]\n"
   ]
  },
  {
   "cell_type": "code",
   "execution_count": 86,
   "metadata": {},
   "outputs": [],
   "source": [
    "syn_count_E_mean_all_wo_L4 = np.mean(np.array(syn_count_E_mean)[[1, 2, 3, 5]])\n",
    "syn_count_E_mean_L5 = np.mean(np.array(syn_count_E_mean)[4])\n",
    "syn_count_I_mean_all = np.mean(syn_count_I_mean)"
   ]
  },
  {
   "cell_type": "code",
   "execution_count": 91,
   "metadata": {},
   "outputs": [
    {
     "data": {
      "image/png": "[encoded data removed]",
      "text/plain": [
       "<Figure size 648x216 with 2 Axes>"
      ]
     },
     "metadata": {
      "needs_background": "light"
     },
     "output_type": "display_data"
    }
   ],
   "source": [
    "# Plot missing synapses\n",
    "fig = plt.figure(figsize=(9, 3))\n",
    "plt.subplot(1, 2, 1)\n",
    "plt.barh(layers, syn_count_E_mean, color='r')\n",
    "plt.errorbar(syn_count_E_mean, layers, xerr=syn_count_E_std, fmt='.k')\n",
    "plt.title('EXC neurons')\n",
    "plt.xlabel('#Missing EXC synapses')\n",
    "plt.ylabel('Layer')\n",
    "plt.ylim((min(layers) - 0.5, max(layers) + 0.5))\n",
    "plt.plot([syn_count_E_mean_all_wo_L4] * 2, plt.ylim(), '--', color='grey')\n",
    "plt.plot([syn_count_E_mean_L5] * 2, plt.ylim(), '--', color='grey')\n",
    "plt.gca().invert_yaxis()\n",
    "\n",
    "plt.subplot(1, 2, 2)\n",
    "plt.barh(layers, syn_count_I_mean, color='b')\n",
    "plt.errorbar(syn_count_I_mean, layers, xerr=syn_count_I_std, fmt='.k')\n",
    "plt.title('INH neurons')\n",
    "plt.xlabel('#Missing EXC synapses')\n",
    "plt.ylabel('Layer')\n",
    "plt.ylim((min(layers) - 0.5, max(layers) + 0.5))\n",
    "plt.plot([syn_count_I_mean_all] * 2, plt.ylim(), '--', color='grey')\n",
    "plt.gca().invert_yaxis()\n",
    "\n",
    "plt.tight_layout()"
   ]
  },
  {
   "cell_type": "code",
   "execution_count": null,
   "metadata": {},
   "outputs": [],
   "source": []
  },
  {
   "cell_type": "code",
   "execution_count": null,
   "metadata": {},
   "outputs": [],
   "source": []
  },
  {
   "cell_type": "code",
   "execution_count": null,
   "metadata": {},
   "outputs": [],
   "source": []
  }
 ],
 "metadata": {
  "kernelspec": {
   "display_name": "BluePy2Kernel",
   "language": "python",
   "name": "bluepy2kernel"
  },
  "language_info": {
   "codemirror_mode": {
    "name": "ipython",
    "version": 3
   },
   "file_extension": ".py",
   "mimetype": "text/x-python",
   "name": "python",
   "nbconvert_exporter": "python",
   "pygments_lexer": "ipython3",
   "version": "3.7.4"
  }
 },
 "nbformat": 4,
 "nbformat_minor": 4
}
